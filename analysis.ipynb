{
 "cells": [
  {
   "cell_type": "code",
   "execution_count": 60,
   "id": "based-energy",
   "metadata": {},
   "outputs": [],
   "source": [
    "import utils\n",
    "import os\n",
    "import matplotlib.pyplot as plt\n",
    "from importlib import reload\n",
    "from tqdm import tqdm"
   ]
  },
  {
   "cell_type": "code",
   "execution_count": 75,
   "id": "oriented-outdoors",
   "metadata": {},
   "outputs": [
    {
     "data": {
      "text/plain": [
       "<module 'utils' from '/Users/Salim/Desktop/env_justice/utils.py'>"
      ]
     },
     "execution_count": 75,
     "metadata": {},
     "output_type": "execute_result"
    }
   ],
   "source": [
    "reload(utils)"
   ]
  },
  {
   "cell_type": "code",
   "execution_count": 80,
   "id": "challenging-assist",
   "metadata": {},
   "outputs": [],
   "source": [
    "cities = utils.get_cities()"
   ]
  },
  {
   "cell_type": "code",
   "execution_count": 81,
   "id": "steady-jamaica",
   "metadata": {},
   "outputs": [],
   "source": [
    "if not os.path.isdir('./figures'):\n",
    "    os.mkdir('./figures')"
   ]
  },
  {
   "cell_type": "code",
   "execution_count": 82,
   "id": "finished-iraqi",
   "metadata": {},
   "outputs": [],
   "source": [
    "def save_plot(plot_fn, city, cycle, variable_name, *args):\n",
    "    plt.clf()\n",
    "    plot_fn(city, cycle, *args)\n",
    "    plt.savefig(f'./figures/{city}/{cycle}th_cycle_{variable_name}.png')\n",
    "    plt.close()"
   ]
  },
  {
   "cell_type": "code",
   "execution_count": 84,
   "id": "caroline-significance",
   "metadata": {},
   "outputs": [
    {
     "name": "stderr",
     "output_type": "stream",
     "text": [
      " 49%|████▉     | 49/100 [07:58<08:20,  9.82s/it]/Users/Salim/Library/Python/3.8/lib/python/site-packages/geopandas/plotting.py:678: UserWarning: The GeoDataFrame you are attempting to plot is empty. Nothing has been displayed.\n",
      "  warnings.warn(\n",
      "/Users/Salim/Library/Python/3.8/lib/python/site-packages/geopandas/plotting.py:678: UserWarning: The GeoDataFrame you are attempting to plot is empty. Nothing has been displayed.\n",
      "  warnings.warn(\n",
      " 58%|█████▊    | 58/100 [09:29<07:32, 10.78s/it]/Users/Salim/Library/Python/3.8/lib/python/site-packages/geopandas/plotting.py:399: UserWarning: The GeoSeries you are attempting to plot is empty. Nothing has been displayed.\n",
      "  warnings.warn(\n",
      "/Users/Salim/Library/Python/3.8/lib/python/site-packages/geopandas/plotting.py:399: UserWarning: The GeoSeries you are attempting to plot is empty. Nothing has been displayed.\n",
      "  warnings.warn(\n",
      "/Users/Salim/Library/Python/3.8/lib/python/site-packages/geopandas/plotting.py:399: UserWarning: The GeoSeries you are attempting to plot is empty. Nothing has been displayed.\n",
      "  warnings.warn(\n",
      "/Users/Salim/Library/Python/3.8/lib/python/site-packages/geopandas/plotting.py:399: UserWarning: The GeoSeries you are attempting to plot is empty. Nothing has been displayed.\n",
      "  warnings.warn(\n",
      "/Users/Salim/Library/Python/3.8/lib/python/site-packages/geopandas/plotting.py:399: UserWarning: The GeoSeries you are attempting to plot is empty. Nothing has been displayed.\n",
      "  warnings.warn(\n",
      "/Users/Salim/Library/Python/3.8/lib/python/site-packages/geopandas/plotting.py:678: UserWarning: The GeoDataFrame you are attempting to plot is empty. Nothing has been displayed.\n",
      "  warnings.warn(\n",
      "/Users/Salim/Library/Python/3.8/lib/python/site-packages/geopandas/plotting.py:399: UserWarning: The GeoSeries you are attempting to plot is empty. Nothing has been displayed.\n",
      "  warnings.warn(\n",
      "100%|██████████| 100/100 [16:36<00:00,  9.96s/it]"
     ]
    },
    {
     "name": "stdout",
     "output_type": "stream",
     "text": [
      "CPU times: user 15min 29s, sys: 30.5 s, total: 15min 59s\n",
      "Wall time: 16min 36s\n"
     ]
    },
    {
     "name": "stderr",
     "output_type": "stream",
     "text": [
      "\n"
     ]
    },
    {
     "data": {
      "text/plain": [
       "<Figure size 432x288 with 0 Axes>"
      ]
     },
     "metadata": {},
     "output_type": "display_data"
    }
   ],
   "source": [
    "%%time\n",
    "for city in tqdm(cities):\n",
    "    if not os.path.isdir(f'./figures/{city}'):\n",
    "        os.mkdir(f'./figures/{city}')\n",
    "        \n",
    "    for cycle in [4, 5]:\n",
    "        save_plot(utils.plot_sites_on_pollution_map, city, cycle, 'aggregate_pollution')\n",
    "        save_plot(utils.plot_sites_on_top_of_diesel_particulate_map, city, cycle, 'rhna_diesel')\n",
    "        save_plot(utils.plot_sites_on_lead_map, city, cycle, 'lead')\n",
    "        save_plot(utils.plot_sites_on_hazardous_waste_map, city, cycle, 'waste')\n",
    "        save_plot(utils.plot_sites_on_traffic_map, city, cycle, 'traffic')\n",
    "        save_plot(utils.plot_sites_and_parks, city, cycle, 'park_space')\n",
    "        save_plot(utils.plot_sites_on_schools, city, cycle, 'schools', 'AbsentPct')"
   ]
  },
  {
   "cell_type": "code",
   "execution_count": null,
   "id": "committed-kidney",
   "metadata": {},
   "outputs": [],
   "source": []
  }
 ],
 "metadata": {
  "kernelspec": {
   "display_name": "Python 3",
   "language": "python",
   "name": "python3"
  },
  "language_info": {
   "codemirror_mode": {
    "name": "ipython",
    "version": 3
   },
   "file_extension": ".py",
   "mimetype": "text/x-python",
   "name": "python",
   "nbconvert_exporter": "python",
   "pygments_lexer": "ipython3",
   "version": "3.8.2"
  }
 },
 "nbformat": 4,
 "nbformat_minor": 5
}

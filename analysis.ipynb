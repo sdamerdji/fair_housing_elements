{
 "cells": [
  {
   "cell_type": "code",
   "execution_count": 47,
   "id": "earlier-muslim",
   "metadata": {},
   "outputs": [],
   "source": [
    "import utils\n",
    "import os\n",
    "import matplotlib.pyplot as plt\n",
    "import seaborn as sns\n",
    "from importlib import reload\n",
    "from tqdm import tqdm"
   ]
  },
  {
   "cell_type": "code",
   "execution_count": 46,
   "id": "upper-qualification",
   "metadata": {},
   "outputs": [],
   "source": []
  },
  {
   "cell_type": "code",
   "execution_count": 25,
   "id": "wooden-seven",
   "metadata": {},
   "outputs": [
    {
     "data": {
      "text/plain": [
       "<module 'utils' from '/Users/Salim/Desktop/affh/utils.py'>"
      ]
     },
     "execution_count": 25,
     "metadata": {},
     "output_type": "execute_result"
    }
   ],
   "source": [
    "reload(utils)"
   ]
  },
  {
   "cell_type": "code",
   "execution_count": 18,
   "id": "figured-gathering",
   "metadata": {},
   "outputs": [],
   "source": [
    "cities = utils.get_cities()"
   ]
  },
  {
   "cell_type": "code",
   "execution_count": 19,
   "id": "bigger-investigation",
   "metadata": {},
   "outputs": [],
   "source": [
    "if not os.path.isdir('./figures'):\n",
    "    os.mkdir('./figures')"
   ]
  },
  {
   "cell_type": "code",
   "execution_count": 20,
   "id": "coordinate-detroit",
   "metadata": {},
   "outputs": [],
   "source": [
    "def save_plot(plot_fn, city, cycle, variable_name, *args):\n",
    "    plt.clf()\n",
    "    plot_fn(city, cycle, *args)\n",
    "    plt.savefig(f'./figures/{city}/{cycle}th_cycle_{variable_name}.png')\n",
    "    plt.close()"
   ]
  },
  {
   "cell_type": "code",
   "execution_count": 28,
   "id": "after-booth",
   "metadata": {},
   "outputs": [
    {
     "name": "stderr",
     "output_type": "stream",
     "text": [
      "  0%|          | 0/100 [00:00<?, ?it/s]/Users/Salim/Library/Python/3.8/lib/python/site-packages/geopandas/plotting.py:678: UserWarning: The GeoDataFrame you are attempting to plot is empty. Nothing has been displayed.\n",
      "  warnings.warn(\n",
      "/Users/Salim/Library/Python/3.8/lib/python/site-packages/geopandas/plotting.py:678: UserWarning: The GeoDataFrame you are attempting to plot is empty. Nothing has been displayed.\n",
      "  warnings.warn(\n",
      "  1%|          | 1/100 [00:09<16:26,  9.97s/it]/Users/Salim/Library/Python/3.8/lib/python/site-packages/geopandas/plotting.py:678: UserWarning: The GeoDataFrame you are attempting to plot is empty. Nothing has been displayed.\n",
      "  warnings.warn(\n",
      "/Users/Salim/Library/Python/3.8/lib/python/site-packages/geopandas/plotting.py:678: UserWarning: The GeoDataFrame you are attempting to plot is empty. Nothing has been displayed.\n",
      "  warnings.warn(\n",
      "  2%|▏         | 2/100 [00:28<24:54, 15.26s/it]/Users/Salim/Library/Python/3.8/lib/python/site-packages/geopandas/plotting.py:678: UserWarning: The GeoDataFrame you are attempting to plot is empty. Nothing has been displayed.\n",
      "  warnings.warn(\n",
      "/Users/Salim/Library/Python/3.8/lib/python/site-packages/geopandas/plotting.py:678: UserWarning: The GeoDataFrame you are attempting to plot is empty. Nothing has been displayed.\n",
      "  warnings.warn(\n",
      "  7%|▋         | 7/100 [01:42<22:39, 14.62s/it]/Users/Salim/Library/Python/3.8/lib/python/site-packages/geopandas/plotting.py:678: UserWarning: The GeoDataFrame you are attempting to plot is empty. Nothing has been displayed.\n",
      "  warnings.warn(\n",
      "/Users/Salim/Library/Python/3.8/lib/python/site-packages/geopandas/plotting.py:678: UserWarning: The GeoDataFrame you are attempting to plot is empty. Nothing has been displayed.\n",
      "  warnings.warn(\n",
      " 12%|█▏        | 12/100 [03:31<32:43, 22.31s/it]/Users/Salim/Library/Python/3.8/lib/python/site-packages/geopandas/plotting.py:678: UserWarning: The GeoDataFrame you are attempting to plot is empty. Nothing has been displayed.\n",
      "  warnings.warn(\n",
      "/Users/Salim/Library/Python/3.8/lib/python/site-packages/geopandas/plotting.py:678: UserWarning: The GeoDataFrame you are attempting to plot is empty. Nothing has been displayed.\n",
      "  warnings.warn(\n",
      " 14%|█▍        | 14/100 [04:00<25:59, 18.13s/it]/Users/Salim/Library/Python/3.8/lib/python/site-packages/geopandas/plotting.py:678: UserWarning: The GeoDataFrame you are attempting to plot is empty. Nothing has been displayed.\n",
      "  warnings.warn(\n",
      "/Users/Salim/Library/Python/3.8/lib/python/site-packages/geopandas/plotting.py:678: UserWarning: The GeoDataFrame you are attempting to plot is empty. Nothing has been displayed.\n",
      "  warnings.warn(\n",
      " 15%|█▌        | 15/100 [04:15<24:03, 16.98s/it]/Users/Salim/Library/Python/3.8/lib/python/site-packages/geopandas/plotting.py:678: UserWarning: The GeoDataFrame you are attempting to plot is empty. Nothing has been displayed.\n",
      "  warnings.warn(\n",
      "/Users/Salim/Library/Python/3.8/lib/python/site-packages/geopandas/plotting.py:678: UserWarning: The GeoDataFrame you are attempting to plot is empty. Nothing has been displayed.\n",
      "  warnings.warn(\n",
      " 17%|█▋        | 17/100 [04:57<25:39, 18.54s/it]/Users/Salim/Library/Python/3.8/lib/python/site-packages/geopandas/plotting.py:678: UserWarning: The GeoDataFrame you are attempting to plot is empty. Nothing has been displayed.\n",
      "  warnings.warn(\n",
      "/Users/Salim/Library/Python/3.8/lib/python/site-packages/geopandas/plotting.py:678: UserWarning: The GeoDataFrame you are attempting to plot is empty. Nothing has been displayed.\n",
      "  warnings.warn(\n",
      " 19%|█▉        | 19/100 [05:31<24:16, 17.98s/it]/Users/Salim/Library/Python/3.8/lib/python/site-packages/geopandas/plotting.py:678: UserWarning: The GeoDataFrame you are attempting to plot is empty. Nothing has been displayed.\n",
      "  warnings.warn(\n",
      "/Users/Salim/Library/Python/3.8/lib/python/site-packages/geopandas/plotting.py:678: UserWarning: The GeoDataFrame you are attempting to plot is empty. Nothing has been displayed.\n",
      "  warnings.warn(\n",
      " 22%|██▏       | 22/100 [06:17<21:08, 16.26s/it]/Users/Salim/Library/Python/3.8/lib/python/site-packages/geopandas/plotting.py:678: UserWarning: The GeoDataFrame you are attempting to plot is empty. Nothing has been displayed.\n",
      "  warnings.warn(\n",
      "/Users/Salim/Library/Python/3.8/lib/python/site-packages/geopandas/plotting.py:678: UserWarning: The GeoDataFrame you are attempting to plot is empty. Nothing has been displayed.\n",
      "  warnings.warn(\n",
      " 23%|██▎       | 23/100 [06:34<20:57, 16.34s/it]/Users/Salim/Library/Python/3.8/lib/python/site-packages/geopandas/plotting.py:678: UserWarning: The GeoDataFrame you are attempting to plot is empty. Nothing has been displayed.\n",
      "  warnings.warn(\n",
      "/Users/Salim/Library/Python/3.8/lib/python/site-packages/geopandas/plotting.py:678: UserWarning: The GeoDataFrame you are attempting to plot is empty. Nothing has been displayed.\n",
      "  warnings.warn(\n",
      " 24%|██▍       | 24/100 [06:49<20:17, 16.02s/it]/Users/Salim/Library/Python/3.8/lib/python/site-packages/geopandas/plotting.py:678: UserWarning: The GeoDataFrame you are attempting to plot is empty. Nothing has been displayed.\n",
      "  warnings.warn(\n",
      "/Users/Salim/Library/Python/3.8/lib/python/site-packages/geopandas/plotting.py:678: UserWarning: The GeoDataFrame you are attempting to plot is empty. Nothing has been displayed.\n",
      "  warnings.warn(\n",
      " 26%|██▌       | 26/100 [07:19<19:16, 15.63s/it]/Users/Salim/Library/Python/3.8/lib/python/site-packages/geopandas/plotting.py:678: UserWarning: The GeoDataFrame you are attempting to plot is empty. Nothing has been displayed.\n",
      "  warnings.warn(\n",
      "/Users/Salim/Library/Python/3.8/lib/python/site-packages/geopandas/plotting.py:678: UserWarning: The GeoDataFrame you are attempting to plot is empty. Nothing has been displayed.\n",
      "  warnings.warn(\n",
      " 27%|██▋       | 27/100 [07:37<19:44, 16.23s/it]/Users/Salim/Library/Python/3.8/lib/python/site-packages/geopandas/plotting.py:678: UserWarning: The GeoDataFrame you are attempting to plot is empty. Nothing has been displayed.\n",
      "  warnings.warn(\n",
      "/Users/Salim/Library/Python/3.8/lib/python/site-packages/geopandas/plotting.py:678: UserWarning: The GeoDataFrame you are attempting to plot is empty. Nothing has been displayed.\n",
      "  warnings.warn(\n",
      " 29%|██▉       | 29/100 [08:14<19:52, 16.80s/it]/Users/Salim/Library/Python/3.8/lib/python/site-packages/geopandas/plotting.py:678: UserWarning: The GeoDataFrame you are attempting to plot is empty. Nothing has been displayed.\n",
      "  warnings.warn(\n",
      "/Users/Salim/Library/Python/3.8/lib/python/site-packages/geopandas/plotting.py:678: UserWarning: The GeoDataFrame you are attempting to plot is empty. Nothing has been displayed.\n",
      "  warnings.warn(\n",
      " 31%|███       | 31/100 [08:47<19:19, 16.81s/it]/Users/Salim/Library/Python/3.8/lib/python/site-packages/geopandas/plotting.py:678: UserWarning: The GeoDataFrame you are attempting to plot is empty. Nothing has been displayed.\n",
      "  warnings.warn(\n",
      "/Users/Salim/Library/Python/3.8/lib/python/site-packages/geopandas/plotting.py:678: UserWarning: The GeoDataFrame you are attempting to plot is empty. Nothing has been displayed.\n",
      "  warnings.warn(\n",
      " 32%|███▏      | 32/100 [09:03<18:39, 16.46s/it]/Users/Salim/Library/Python/3.8/lib/python/site-packages/geopandas/plotting.py:678: UserWarning: The GeoDataFrame you are attempting to plot is empty. Nothing has been displayed.\n",
      "  warnings.warn(\n",
      "/Users/Salim/Library/Python/3.8/lib/python/site-packages/geopandas/plotting.py:678: UserWarning: The GeoDataFrame you are attempting to plot is empty. Nothing has been displayed.\n",
      "  warnings.warn(\n",
      " 33%|███▎      | 33/100 [09:18<17:56, 16.06s/it]/Users/Salim/Library/Python/3.8/lib/python/site-packages/geopandas/plotting.py:678: UserWarning: The GeoDataFrame you are attempting to plot is empty. Nothing has been displayed.\n",
      "  warnings.warn(\n",
      "/Users/Salim/Library/Python/3.8/lib/python/site-packages/geopandas/plotting.py:678: UserWarning: The GeoDataFrame you are attempting to plot is empty. Nothing has been displayed.\n",
      "  warnings.warn(\n",
      " 34%|███▍      | 34/100 [09:33<17:21, 15.77s/it]/Users/Salim/Library/Python/3.8/lib/python/site-packages/geopandas/plotting.py:678: UserWarning: The GeoDataFrame you are attempting to plot is empty. Nothing has been displayed.\n",
      "  warnings.warn(\n",
      "/Users/Salim/Library/Python/3.8/lib/python/site-packages/geopandas/plotting.py:678: UserWarning: The GeoDataFrame you are attempting to plot is empty. Nothing has been displayed.\n",
      "  warnings.warn(\n",
      " 36%|███▌      | 36/100 [10:01<15:36, 14.63s/it]/Users/Salim/Library/Python/3.8/lib/python/site-packages/geopandas/plotting.py:678: UserWarning: The GeoDataFrame you are attempting to plot is empty. Nothing has been displayed.\n",
      "  warnings.warn(\n",
      "/Users/Salim/Library/Python/3.8/lib/python/site-packages/geopandas/plotting.py:678: UserWarning: The GeoDataFrame you are attempting to plot is empty. Nothing has been displayed.\n",
      "  warnings.warn(\n",
      " 40%|████      | 40/100 [11:00<14:08, 14.15s/it]/Users/Salim/Library/Python/3.8/lib/python/site-packages/geopandas/plotting.py:678: UserWarning: The GeoDataFrame you are attempting to plot is empty. Nothing has been displayed.\n",
      "  warnings.warn(\n",
      "/Users/Salim/Library/Python/3.8/lib/python/site-packages/geopandas/plotting.py:678: UserWarning: The GeoDataFrame you are attempting to plot is empty. Nothing has been displayed.\n",
      "  warnings.warn(\n",
      " 44%|████▍     | 44/100 [11:56<13:16, 14.23s/it]/Users/Salim/Library/Python/3.8/lib/python/site-packages/geopandas/plotting.py:678: UserWarning: The GeoDataFrame you are attempting to plot is empty. Nothing has been displayed.\n",
      "  warnings.warn(\n",
      "/Users/Salim/Library/Python/3.8/lib/python/site-packages/geopandas/plotting.py:678: UserWarning: The GeoDataFrame you are attempting to plot is empty. Nothing has been displayed.\n",
      "  warnings.warn(\n",
      " 49%|████▉     | 49/100 [13:01<10:45, 12.66s/it]/Users/Salim/Library/Python/3.8/lib/python/site-packages/geopandas/plotting.py:678: UserWarning: The GeoDataFrame you are attempting to plot is empty. Nothing has been displayed.\n",
      "  warnings.warn(\n",
      "/Users/Salim/Library/Python/3.8/lib/python/site-packages/geopandas/plotting.py:678: UserWarning: The GeoDataFrame you are attempting to plot is empty. Nothing has been displayed.\n",
      "  warnings.warn(\n",
      " 51%|█████     | 51/100 [13:33<11:39, 14.28s/it]/Users/Salim/Library/Python/3.8/lib/python/site-packages/geopandas/plotting.py:678: UserWarning: The GeoDataFrame you are attempting to plot is empty. Nothing has been displayed.\n",
      "  warnings.warn(\n",
      "/Users/Salim/Library/Python/3.8/lib/python/site-packages/geopandas/plotting.py:678: UserWarning: The GeoDataFrame you are attempting to plot is empty. Nothing has been displayed.\n",
      "  warnings.warn(\n",
      " 53%|█████▎    | 53/100 [13:58<10:35, 13.52s/it]/Users/Salim/Library/Python/3.8/lib/python/site-packages/geopandas/plotting.py:678: UserWarning: The GeoDataFrame you are attempting to plot is empty. Nothing has been displayed.\n",
      "  warnings.warn(\n",
      "/Users/Salim/Library/Python/3.8/lib/python/site-packages/geopandas/plotting.py:678: UserWarning: The GeoDataFrame you are attempting to plot is empty. Nothing has been displayed.\n",
      "  warnings.warn(\n",
      " 54%|█████▍    | 54/100 [14:11<10:16, 13.40s/it]/Users/Salim/Library/Python/3.8/lib/python/site-packages/geopandas/plotting.py:678: UserWarning: The GeoDataFrame you are attempting to plot is empty. Nothing has been displayed.\n",
      "  warnings.warn(\n",
      "/Users/Salim/Library/Python/3.8/lib/python/site-packages/geopandas/plotting.py:678: UserWarning: The GeoDataFrame you are attempting to plot is empty. Nothing has been displayed.\n",
      "  warnings.warn(\n",
      " 58%|█████▊    | 58/100 [15:27<13:47, 19.71s/it]/Users/Salim/Library/Python/3.8/lib/python/site-packages/geopandas/plotting.py:399: UserWarning: The GeoSeries you are attempting to plot is empty. Nothing has been displayed.\n",
      "  warnings.warn(\n",
      "/Users/Salim/Library/Python/3.8/lib/python/site-packages/geopandas/plotting.py:399: UserWarning: The GeoSeries you are attempting to plot is empty. Nothing has been displayed.\n",
      "  warnings.warn(\n",
      "/Users/Salim/Library/Python/3.8/lib/python/site-packages/geopandas/plotting.py:399: UserWarning: The GeoSeries you are attempting to plot is empty. Nothing has been displayed.\n",
      "  warnings.warn(\n",
      "/Users/Salim/Library/Python/3.8/lib/python/site-packages/geopandas/plotting.py:399: UserWarning: The GeoSeries you are attempting to plot is empty. Nothing has been displayed.\n",
      "  warnings.warn(\n",
      "/Users/Salim/Library/Python/3.8/lib/python/site-packages/geopandas/plotting.py:399: UserWarning: The GeoSeries you are attempting to plot is empty. Nothing has been displayed.\n",
      "  warnings.warn(\n",
      "/Users/Salim/Library/Python/3.8/lib/python/site-packages/geopandas/plotting.py:678: UserWarning: The GeoDataFrame you are attempting to plot is empty. Nothing has been displayed.\n",
      "  warnings.warn(\n",
      "/Users/Salim/Library/Python/3.8/lib/python/site-packages/geopandas/plotting.py:399: UserWarning: The GeoSeries you are attempting to plot is empty. Nothing has been displayed.\n",
      "  warnings.warn(\n",
      "/Users/Salim/Library/Python/3.8/lib/python/site-packages/geopandas/plotting.py:399: UserWarning: The GeoSeries you are attempting to plot is empty. Nothing has been displayed.\n",
      "  warnings.warn(\n",
      " 62%|██████▏   | 62/100 [16:24<09:56, 15.69s/it]/Users/Salim/Library/Python/3.8/lib/python/site-packages/geopandas/plotting.py:678: UserWarning: The GeoDataFrame you are attempting to plot is empty. Nothing has been displayed.\n",
      "  warnings.warn(\n",
      "/Users/Salim/Library/Python/3.8/lib/python/site-packages/geopandas/plotting.py:678: UserWarning: The GeoDataFrame you are attempting to plot is empty. Nothing has been displayed.\n",
      "  warnings.warn(\n",
      " 63%|██████▎   | 63/100 [16:45<10:38, 17.25s/it]/Users/Salim/Library/Python/3.8/lib/python/site-packages/geopandas/plotting.py:678: UserWarning: The GeoDataFrame you are attempting to plot is empty. Nothing has been displayed.\n",
      "  warnings.warn(\n",
      "/Users/Salim/Library/Python/3.8/lib/python/site-packages/geopandas/plotting.py:678: UserWarning: The GeoDataFrame you are attempting to plot is empty. Nothing has been displayed.\n",
      "  warnings.warn(\n",
      " 64%|██████▍   | 64/100 [16:58<09:40, 16.12s/it]/Users/Salim/Library/Python/3.8/lib/python/site-packages/geopandas/plotting.py:678: UserWarning: The GeoDataFrame you are attempting to plot is empty. Nothing has been displayed.\n",
      "  warnings.warn(\n",
      "/Users/Salim/Library/Python/3.8/lib/python/site-packages/geopandas/plotting.py:678: UserWarning: The GeoDataFrame you are attempting to plot is empty. Nothing has been displayed.\n",
      "  warnings.warn(\n",
      " 66%|██████▌   | 66/100 [17:23<08:10, 14.42s/it]/Users/Salim/Library/Python/3.8/lib/python/site-packages/geopandas/plotting.py:678: UserWarning: The GeoDataFrame you are attempting to plot is empty. Nothing has been displayed.\n",
      "  warnings.warn(\n",
      "/Users/Salim/Library/Python/3.8/lib/python/site-packages/geopandas/plotting.py:678: UserWarning: The GeoDataFrame you are attempting to plot is empty. Nothing has been displayed.\n",
      "  warnings.warn(\n",
      " 70%|███████   | 70/100 [18:19<06:58, 13.94s/it]/Users/Salim/Library/Python/3.8/lib/python/site-packages/geopandas/plotting.py:678: UserWarning: The GeoDataFrame you are attempting to plot is empty. Nothing has been displayed.\n",
      "  warnings.warn(\n",
      "/Users/Salim/Library/Python/3.8/lib/python/site-packages/geopandas/plotting.py:678: UserWarning: The GeoDataFrame you are attempting to plot is empty. Nothing has been displayed.\n",
      "  warnings.warn(\n",
      " 71%|███████   | 71/100 [18:40<07:39, 15.86s/it]/Users/Salim/Library/Python/3.8/lib/python/site-packages/geopandas/plotting.py:678: UserWarning: The GeoDataFrame you are attempting to plot is empty. Nothing has been displayed.\n",
      "  warnings.warn(\n",
      "/Users/Salim/Library/Python/3.8/lib/python/site-packages/geopandas/plotting.py:678: UserWarning: The GeoDataFrame you are attempting to plot is empty. Nothing has been displayed.\n",
      "  warnings.warn(\n",
      " 78%|███████▊  | 78/100 [20:36<06:37, 18.07s/it]/Users/Salim/Library/Python/3.8/lib/python/site-packages/geopandas/plotting.py:678: UserWarning: The GeoDataFrame you are attempting to plot is empty. Nothing has been displayed.\n",
      "  warnings.warn(\n",
      "/Users/Salim/Library/Python/3.8/lib/python/site-packages/geopandas/plotting.py:678: UserWarning: The GeoDataFrame you are attempting to plot is empty. Nothing has been displayed.\n",
      "  warnings.warn(\n",
      " 80%|████████  | 80/100 [21:06<05:31, 16.58s/it]/Users/Salim/Library/Python/3.8/lib/python/site-packages/geopandas/plotting.py:678: UserWarning: The GeoDataFrame you are attempting to plot is empty. Nothing has been displayed.\n",
      "  warnings.warn(\n",
      "/Users/Salim/Library/Python/3.8/lib/python/site-packages/geopandas/plotting.py:678: UserWarning: The GeoDataFrame you are attempting to plot is empty. Nothing has been displayed.\n",
      "  warnings.warn(\n",
      " 82%|████████▏ | 82/100 [21:38<04:54, 16.34s/it]/Users/Salim/Library/Python/3.8/lib/python/site-packages/geopandas/plotting.py:678: UserWarning: The GeoDataFrame you are attempting to plot is empty. Nothing has been displayed.\n",
      "  warnings.warn(\n",
      "/Users/Salim/Library/Python/3.8/lib/python/site-packages/geopandas/plotting.py:678: UserWarning: The GeoDataFrame you are attempting to plot is empty. Nothing has been displayed.\n",
      "  warnings.warn(\n",
      " 83%|████████▎ | 83/100 [21:51<04:22, 15.44s/it]/Users/Salim/Library/Python/3.8/lib/python/site-packages/geopandas/plotting.py:678: UserWarning: The GeoDataFrame you are attempting to plot is empty. Nothing has been displayed.\n",
      "  warnings.warn(\n",
      "/Users/Salim/Library/Python/3.8/lib/python/site-packages/geopandas/plotting.py:678: UserWarning: The GeoDataFrame you are attempting to plot is empty. Nothing has been displayed.\n",
      "  warnings.warn(\n",
      " 86%|████████▌ | 86/100 [22:33<03:20, 14.35s/it]/Users/Salim/Library/Python/3.8/lib/python/site-packages/geopandas/plotting.py:678: UserWarning: The GeoDataFrame you are attempting to plot is empty. Nothing has been displayed.\n",
      "  warnings.warn(\n",
      "/Users/Salim/Library/Python/3.8/lib/python/site-packages/geopandas/plotting.py:678: UserWarning: The GeoDataFrame you are attempting to plot is empty. Nothing has been displayed.\n",
      "  warnings.warn(\n",
      " 88%|████████▊ | 88/100 [22:59<02:44, 13.73s/it]/Users/Salim/Library/Python/3.8/lib/python/site-packages/geopandas/plotting.py:678: UserWarning: The GeoDataFrame you are attempting to plot is empty. Nothing has been displayed.\n",
      "  warnings.warn(\n",
      "/Users/Salim/Library/Python/3.8/lib/python/site-packages/geopandas/plotting.py:678: UserWarning: The GeoDataFrame you are attempting to plot is empty. Nothing has been displayed.\n",
      "  warnings.warn(\n",
      " 90%|█████████ | 90/100 [23:32<02:32, 15.24s/it]/Users/Salim/Library/Python/3.8/lib/python/site-packages/geopandas/plotting.py:678: UserWarning: The GeoDataFrame you are attempting to plot is empty. Nothing has been displayed.\n",
      "  warnings.warn(\n",
      "/Users/Salim/Library/Python/3.8/lib/python/site-packages/geopandas/plotting.py:678: UserWarning: The GeoDataFrame you are attempting to plot is empty. Nothing has been displayed.\n",
      "  warnings.warn(\n",
      " 93%|█████████▎| 93/100 [24:11<01:37, 13.91s/it]/Users/Salim/Library/Python/3.8/lib/python/site-packages/geopandas/plotting.py:678: UserWarning: The GeoDataFrame you are attempting to plot is empty. Nothing has been displayed.\n",
      "  warnings.warn(\n",
      "/Users/Salim/Library/Python/3.8/lib/python/site-packages/geopandas/plotting.py:678: UserWarning: The GeoDataFrame you are attempting to plot is empty. Nothing has been displayed.\n",
      "  warnings.warn(\n",
      " 94%|█████████▍| 94/100 [24:31<01:34, 15.75s/it]/Users/Salim/Library/Python/3.8/lib/python/site-packages/geopandas/plotting.py:678: UserWarning: The GeoDataFrame you are attempting to plot is empty. Nothing has been displayed.\n",
      "  warnings.warn(\n",
      "/Users/Salim/Library/Python/3.8/lib/python/site-packages/geopandas/plotting.py:678: UserWarning: The GeoDataFrame you are attempting to plot is empty. Nothing has been displayed.\n",
      "  warnings.warn(\n",
      " 95%|█████████▌| 95/100 [24:43<01:13, 14.71s/it]/Users/Salim/Library/Python/3.8/lib/python/site-packages/geopandas/plotting.py:678: UserWarning: The GeoDataFrame you are attempting to plot is empty. Nothing has been displayed.\n",
      "  warnings.warn(\n",
      "/Users/Salim/Library/Python/3.8/lib/python/site-packages/geopandas/plotting.py:678: UserWarning: The GeoDataFrame you are attempting to plot is empty. Nothing has been displayed.\n",
      "  warnings.warn(\n",
      " 99%|█████████▉| 99/100 [25:46<00:16, 16.60s/it]/Users/Salim/Library/Python/3.8/lib/python/site-packages/geopandas/plotting.py:678: UserWarning: The GeoDataFrame you are attempting to plot is empty. Nothing has been displayed.\n",
      "  warnings.warn(\n",
      "/Users/Salim/Library/Python/3.8/lib/python/site-packages/geopandas/plotting.py:678: UserWarning: The GeoDataFrame you are attempting to plot is empty. Nothing has been displayed.\n",
      "  warnings.warn(\n",
      "100%|██████████| 100/100 [26:02<00:00, 15.62s/it]"
     ]
    },
    {
     "name": "stdout",
     "output_type": "stream",
     "text": [
      "CPU times: user 19min 2s, sys: 36.4 s, total: 19min 38s\n",
      "Wall time: 26min 2s\n"
     ]
    },
    {
     "name": "stderr",
     "output_type": "stream",
     "text": [
      "\n"
     ]
    },
    {
     "data": {
      "text/plain": [
       "<Figure size 432x288 with 0 Axes>"
      ]
     },
     "metadata": {},
     "output_type": "display_data"
    }
   ],
   "source": [
    "%%time\n",
    "for city in tqdm(cities):\n",
    "    if not os.path.isdir(f'./figures/{city}'):\n",
    "        os.mkdir(f'./figures/{city}')\n",
    "        \n",
    "    for cycle in [4, 5]:\n",
    "        save_plot(utils.plot_sites_on_pollution_map, city, cycle, 'aggregate_pollution')\n",
    "        save_plot(utils.plot_sites_on_diesel_particulate_map, city, cycle, 'rhna_diesel')\n",
    "        save_plot(utils.plot_sites_on_lead_map, city, cycle, 'lead')\n",
    "        save_plot(utils.plot_sites_on_hazardous_waste_map, city, cycle, 'waste')\n",
    "        save_plot(utils.plot_sites_on_traffic_map, city, cycle, 'traffic')\n",
    "        save_plot(utils.plot_sites_and_parks, city, cycle, 'park_space')\n",
    "        save_plot(utils.plot_sites_on_schools, city, cycle, 'schools', 'AbsentPct')\n",
    "        save_plot(utils.plot_sites_on_opportunity, city, cycle, \"opportunity\")"
   ]
  },
  {
   "cell_type": "code",
   "execution_count": 41,
   "id": "meaning-coordination",
   "metadata": {},
   "outputs": [
    {
     "name": "stdout",
     "output_type": "stream",
     "text": [
      "Albany 0.95\n",
      "Atherton 0.9852941176470589\n",
      "Berkeley 0.954653937947494\n",
      "Los Altos Hills 0.9453125\n",
      "Millbrae 0.9921259842519685\n",
      "Novato 0.9855072463768116\n",
      "Piedmont 0.9298245614035088\n",
      "Pinole 0.9193548387096774\n",
      "Pleasant Hill 1.0\n",
      "Richmond 0.9053497942386831\n",
      "Rio Vista 1.0\n",
      "San Mateo 0.9895833333333334\n",
      "San Pablo 1.0\n",
      "Sausalito 0.9885057471264368\n",
      "Woodside 0.9742647058823529\n"
     ]
    }
   ],
   "source": [
    "for city in cities:\n",
    "    overlap = utils.get_4th_cycle_sites_for(city).apn.isin(utils.get_5th_cycle_sites_for(city).apn).mean()\n",
    "    if overlap > .9:\n",
    "        print(city, overlap)"
   ]
  },
  {
   "cell_type": "code",
   "execution_count": 51,
   "id": "threaded-extra",
   "metadata": {},
   "outputs": [
    {
     "data": {
      "text/plain": [
       "Text(0.5, 1.0, 'Distribution of 5th RHNA Cycle that were Recycled from 4th Cycle')"
      ]
     },
     "execution_count": 51,
     "metadata": {},
     "output_type": "execute_result"
    },
    {
     "data": {
      "image/png": "[encoded data removed]",
      "text/plain": [
       "<Figure size 432x288 with 1 Axes>"
      ]
     },
     "metadata": {
      "needs_background": "light"
     },
     "output_type": "display_data"
    }
   ],
   "source": [
    "overlaps = []\n",
    "for city in cities:\n",
    "    overlaps.append(utils.get_5th_cycle_sites_for(city).apn.isin(utils.get_4th_cycle_sites_for(city).apn).mean())\n",
    "sns.histplot(overlaps)\n",
    "plt.title('Distribution of 5th RHNA Cycle that were Recycled from 4th Cycle')"
   ]
  },
  {
   "cell_type": "code",
   "execution_count": 45,
   "id": "touched-friendship",
   "metadata": {},
   "outputs": [
    {
     "data": {
      "text/plain": [
       "Text(0.5, 1.0, 'Distribution of 5th RHNA Cycle that were Recycled')"
      ]
     },
     "execution_count": 45,
     "metadata": {},
     "output_type": "execute_result"
    },
    {
     "data": {
      "image/png": "[encoded data removed]",
      "text/plain": [
       "<Figure size 432x288 with 1 Axes>"
      ]
     },
     "metadata": {
      "needs_background": "light"
     },
     "output_type": "display_data"
    }
   ],
   "source": [
    "overlaps = []\n",
    "for city in cities:\n",
    "    overlaps.append(utils.get_4th_cycle_sites_for(city).apn.isin(utils.get_5th_cycle_sites_for(city).apn).mean())\n",
    "plt.hist(overlaps)\n",
    "plt.title('Distribution of 4th RHNA Cycle that were Recycled')"
   ]
  },
  {
   "cell_type": "code",
   "execution_count": null,
   "id": "international-orange",
   "metadata": {},
   "outputs": [],
   "source": []
  }
 ],
 "metadata": {
  "kernelspec": {
   "display_name": "Python 3",
   "language": "python",
   "name": "python3"
  },
  "language_info": {
   "codemirror_mode": {
    "name": "ipython",
    "version": 3
   },
   "file_extension": ".py",
   "mimetype": "text/x-python",
   "name": "python",
   "nbconvert_exporter": "python",
   "pygments_lexer": "ipython3",
   "version": "3.8.2"
  }
 },
 "nbformat": 4,
 "nbformat_minor": 5
}

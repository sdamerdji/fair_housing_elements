{
 "cells": [
  {
   "cell_type": "code",
   "execution_count": 244,
   "id": "wireless-element",
   "metadata": {},
   "outputs": [],
   "source": [
    "import os \n",
    "import geopandas as gpd\n",
    "import matplotlib.pyplot as plt\n",
    "import pandas as pd\n",
    "from scipy.stats import pearsonr"
   ]
  },
  {
   "cell_type": "code",
   "execution_count": 204,
   "id": "pressing-combination",
   "metadata": {},
   "outputs": [],
   "source": [
    "INVENTORY, POLLUTION, BAY = None, None, None\n",
    "PARENT_DIR = os.getcwd()"
   ]
  },
  {
   "cell_type": "code",
   "execution_count": 205,
   "id": "cross-norway",
   "metadata": {},
   "outputs": [],
   "source": [
    "def get_sites():\n",
    "    global INVENTORY\n",
    "    if INVENTORY is None:\n",
    "        inventory = gpd.read_file(\n",
    "            PARENT_DIR + \"/data/housing_sites/xn--Bay_Area_Housing_Opportunity_Sites_Inventory__20072023_-it38a.shp\"\n",
    "        )\n",
    "        INVENTORY = inventory.to_crs(epsg=3857)\n",
    "    return INVENTORY"
   ]
  },
  {
   "cell_type": "code",
   "execution_count": 206,
   "id": "driving-execution",
   "metadata": {},
   "outputs": [],
   "source": [
    "def get_pollution_map():\n",
    "    global POLLUTION\n",
    "    if POLLUTION is None:\n",
    "        pollution = gpd.read_file(\n",
    "            './data/CalEnviroScreen_4.0Shapefile_D1_2021.shp'\n",
    "        )\n",
    "        POLLUTION = pollution.to_crs(epsg=3857)\n",
    "    return POLLUTION"
   ]
  },
  {
   "cell_type": "code",
   "execution_count": 207,
   "id": "exposed-saudi",
   "metadata": {},
   "outputs": [],
   "source": [
    "def get_bay_map():\n",
    "    global BAY\n",
    "    if BAY is None:\n",
    "        bay = gpd.read_file(\n",
    "            './data/bay_area_map/bay.shp'\n",
    "        )\n",
    "        bay['city'] = bay['city'].str.title()\n",
    "        bay['county'] = bay['county'].str.title()\n",
    "        BAY = bay.to_crs(epsg=3857)\n",
    "    return BAY"
   ]
  },
  {
   "cell_type": "code",
   "execution_count": 208,
   "id": "sustained-leave",
   "metadata": {},
   "outputs": [],
   "source": [
    "def get_sites_for(city):\n",
    "    sites = get_sites().query(f'jurisdict == \"{city}\"')\n",
    "    return clean_real_cap(city, sites)"
   ]
  },
  {
   "cell_type": "code",
   "execution_count": 209,
   "id": "informed-blackjack",
   "metadata": {},
   "outputs": [],
   "source": [
    "def get_5th_cycle_sites_for(city):\n",
    "    return get_sites_for(city).query('rhnacyc == \"RHNA5\"')"
   ]
  },
  {
   "cell_type": "code",
   "execution_count": 210,
   "id": "sustainable-future",
   "metadata": {},
   "outputs": [],
   "source": [
    "def get_4th_cycle_sites_for(city):\n",
    "    return get_sites_for(city).query('rhnacyc == \"RHNA4\"')"
   ]
  },
  {
   "cell_type": "code",
   "execution_count": 256,
   "id": "imported-connectivity",
   "metadata": {},
   "outputs": [],
   "source": [
    "def get_city_sites_for_cycle(city, cycle):\n",
    "    assert cycle in [4, 5]\n",
    "    if cycle == 4:\n",
    "        get_4th_cycle_sites_for(city)\n",
    "    else:\n",
    "        return get_5th_cycle_sites_for(city)"
   ]
  },
  {
   "cell_type": "code",
   "execution_count": 211,
   "id": "anonymous-looking",
   "metadata": {},
   "outputs": [],
   "source": [
    "def get_cities():\n",
    "    cities_sites = set(get_sites().jurisdict.unique())\n",
    "    cities_mapped = set(get_bay_map().city.unique())\n",
    "    #cities_pollution = set(get_pollution_map().City.unique())\n",
    "    cities = cities_sites.intersection(cities_mapped)\n",
    "    cities = list(cities)\n",
    "    cities.sort()\n",
    "    return cities"
   ]
  },
  {
   "cell_type": "code",
   "execution_count": 212,
   "id": "interpreted-reset",
   "metadata": {},
   "outputs": [],
   "source": [
    "def get_pollution_for(city):\n",
    "    city_shape = get_bay_map().query(f'city == \"{city}\"')\n",
    "    city_shape = city_shape[['city', 'geometry']]\n",
    "    result = gpd.overlay(city_shape, get_pollution_map(), how='intersection', keep_geom_type=False)\n",
    "    if result.size:\n",
    "        return result\n",
    "    return"
   ]
  },
  {
   "cell_type": "code",
   "execution_count": 213,
   "id": "interracial-storm",
   "metadata": {},
   "outputs": [],
   "source": [
    "\"\"\"Code lifted from project here: https://github.com/YIMBYdata/housing-elements/blob/main/housing_elements/data_loading_utils.py\"\"\"\n",
    "\n",
    "def clean_real_cap(city, sites):\n",
    "    sites = sites.copy()\n",
    "    if city in ('Oakland', 'Los Altos Hills', 'Napa County', 'Newark'):\n",
    "        sites = remove_range_in_realcap(sites)\n",
    "    if city in ('Danville', 'San Ramon', 'Corte Madera', 'Portola Valley'):\n",
    "        sites = remove_units_in_realcap(sites)\n",
    "    if city == 'El Cerrito':\n",
    "        sites = fix_el_cerrito_realcap(sites)\n",
    "    sites['relcapcty'] = pd.to_numeric(sites['relcapcty'], errors='coerce')\n",
    "    sites = sites.rename({'relcapcty': 'realcap'}, axis=1)\n",
    "    return sites\n",
    "\n",
    "def remove_range_in_realcap(sites: pd.DataFrame) -> pd.DataFrame:\n",
    "    # E.g. Oakland, Newark\n",
    "    sites.relcapcty = sites.relcapcty.str.split('-').str[-1]\n",
    "    # Los Altos Hills\n",
    "    sites.relcapcty = sites.relcapcty.str.split(' to ').str[-1]\n",
    "    return sites\n",
    "\n",
    "def remove_units_in_realcap(sites: pd.DataFrame) -> pd.DataFrame:\n",
    "    # San Ramon\n",
    "    sites.relcapcty = sites.relcapcty.str.replace('á', '', regex=False)\n",
    "    # Danville\n",
    "    sites.relcapcty = sites.relcapcty.str.replace('sfr', '', regex=False)\n",
    "    sites.relcapcty = sites.relcapcty.str.replace('SFR', '', regex=False)\n",
    "    sites.relcapcty = sites.relcapcty.str.replace('mfr', '', regex=False)\n",
    "    # Danville, Corte Madera, Portola Valley\n",
    "    sites.relcapcty = sites.relcapcty.str.split(' ').str[0]\n",
    "    return sites\n",
    "\n",
    "def fix_el_cerrito_realcap(sites: pd.DataFrame) -> pd.DataFrame:\n",
    "    \"\"\"El Cerrito's realcap is in plain english, listing primary units and accessory units.\"\"\"\n",
    "    el_cerrito_rc = []\n",
    "    for v in sites.relcapcty.values:\n",
    "        # If realcap includes primary and accessory units\n",
    "        if isinstance(v, str) and 'primary and' in v:\n",
    "            # Then let realcap equal double the # of primary units (which is always true)\n",
    "            v = int(v.split(' ')[0]) * 2\n",
    "        el_cerrito_rc.append(v)\n",
    "    sites.relcapcty = el_cerrito_rc\n",
    "    sites.relcapcty = sites.relcapcty.str.split(' ').str[0]\n",
    "    return sites"
   ]
  },
  {
   "cell_type": "markdown",
   "id": "blond-teaching",
   "metadata": {},
   "source": [
    "To do: Check that geometry changes after intsection for at least one of the cities that pop up in print_pollution_map_city_incorrect()"
   ]
  },
  {
   "cell_type": "code",
   "execution_count": 214,
   "id": "potential-offer",
   "metadata": {},
   "outputs": [],
   "source": [
    "def print_pollution_map_city_incorrect():\n",
    "    \"\"\"This function shows that census tracts extend beyond a single city.\"\"\"\n",
    "    for city in get_cities():\n",
    "        n_tracts_trivial = sum(get_pollution_map().City == city)\n",
    "        n_tracts_nontrivial = get_tracts(city).shape[0]\n",
    "        if n_tracts_trivial != n_tracts_nontrivial:\n",
    "            print(city, n_tracts_nontrivial - n_tracts_trivial)"
   ]
  },
  {
   "cell_type": "code",
   "execution_count": 215,
   "id": "seven-shame",
   "metadata": {},
   "outputs": [],
   "source": [
    "def get_production_by_tract(tracts, sites):\n",
    "    joined = gpd.tools.sjoin(tracts, sites)\n",
    "    production_by_tract = joined.groupby('Tract').agg({'realcap': sum})\n",
    "    return production_by_tract"
   ]
  },
  {
   "cell_type": "code",
   "execution_count": 231,
   "id": "touched-territory",
   "metadata": {},
   "outputs": [],
   "source": [
    "def get_5th_cycle_tracts(city):\n",
    "    sites = get_5th_cycle_sites_for(city)\n",
    "    pollution = get_pollution_for(city)\n",
    "    sites_by_tract = get_production_by_tract(pollution, sites)\n",
    "    tracts = pollution.set_index('Tract')\n",
    "    tracts['realcap'] = 0\n",
    "    tracts.loc[sites_by_tract.index, 'realcap'] = sites_by_tract['realcap']\n",
    "    tracts['acres'] = tracts['geometry'].to_crs(5070).geometry.area / 10**6 * 247\n",
    "    tracts['homes per acre'] = tracts['realcap'] / tracts['acres']\n",
    "    return tracts"
   ]
  },
  {
   "cell_type": "code",
   "execution_count": 233,
   "id": "young-killer",
   "metadata": {},
   "outputs": [],
   "source": [
    "tracts_LA = get_5th_cycle_tracts('Los Altos')"
   ]
  },
  {
   "cell_type": "code",
   "execution_count": 237,
   "id": "figured-variation",
   "metadata": {},
   "outputs": [
    {
     "data": {
      "text/plain": [
       "Text(0.5, 1.0, 'Are more homes planned for areas with more pollution?')"
      ]
     },
     "execution_count": 237,
     "metadata": {},
     "output_type": "execute_result"
    },
    {
     "data": {
      "image/png": "[encoded data removed]",
      "text/plain": [
       "<Figure size 432x288 with 1 Axes>"
      ]
     },
     "metadata": {
      "needs_background": "light"
     },
     "output_type": "display_data"
    }
   ],
   "source": [
    "plt.scatter(tracts_LA['homes per acre'], tracts_LA['CIscoreP'], s=tracts_LA['acres'], alpha=.4)\n",
    "plt.xlabel(\"Homes per acre\")\n",
    "plt.ylabel(\"CIScoreP\")\n",
    "plt.title('Are more homes planned for areas with more pollution?')"
   ]
  },
  {
   "cell_type": "code",
   "execution_count": 243,
   "id": "solar-floor",
   "metadata": {},
   "outputs": [
    {
     "data": {
      "text/html": [
       "<div>\n",
       "<style scoped>\n",
       "    .dataframe tbody tr th:only-of-type {\n",
       "        vertical-align: middle;\n",
       "    }\n",
       "\n",
       "    .dataframe tbody tr th {\n",
       "        vertical-align: top;\n",
       "    }\n",
       "\n",
       "    .dataframe thead th {\n",
       "        text-align: right;\n",
       "    }\n",
       "</style>\n",
       "<table border=\"1\" class=\"dataframe\">\n",
       "  <thead>\n",
       "    <tr style=\"text-align: right;\">\n",
       "      <th></th>\n",
       "      <th>realcap</th>\n",
       "    </tr>\n",
       "    <tr>\n",
       "      <th>Pctl_Range</th>\n",
       "      <th></th>\n",
       "    </tr>\n",
       "  </thead>\n",
       "  <tbody>\n",
       "    <tr>\n",
       "      <th>1-5% (lowest scores)</th>\n",
       "      <td>261.5</td>\n",
       "    </tr>\n",
       "    <tr>\n",
       "      <th>21-25%</th>\n",
       "      <td>0.0</td>\n",
       "    </tr>\n",
       "    <tr>\n",
       "      <th>31-35%</th>\n",
       "      <td>0.0</td>\n",
       "    </tr>\n",
       "    <tr>\n",
       "      <th>36-40%</th>\n",
       "      <td>0.0</td>\n",
       "    </tr>\n",
       "    <tr>\n",
       "      <th>6-10%</th>\n",
       "      <td>0.0</td>\n",
       "    </tr>\n",
       "  </tbody>\n",
       "</table>\n",
       "</div>"
      ],
      "text/plain": [
       "                      realcap\n",
       "Pctl_Range                   \n",
       "1-5% (lowest scores)    261.5\n",
       "21-25%                    0.0\n",
       "31-35%                    0.0\n",
       "36-40%                    0.0\n",
       "6-10%                     0.0"
      ]
     },
     "execution_count": 243,
     "metadata": {},
     "output_type": "execute_result"
    }
   ],
   "source": [
    "tracts_LA.groupby('Pctl_Range').agg({'realcap': sum})"
   ]
  },
  {
   "cell_type": "code",
   "execution_count": 246,
   "id": "acknowledged-muslim",
   "metadata": {},
   "outputs": [],
   "source": [
    "def score_correlation(city, cycle):\n",
    "    assert cycle in [4, 5]\n",
    "    if cycle == 4:\n",
    "        tracts = get_4th_cycle_tracts('Los Altos')\n",
    "    else:\n",
    "        tracts = get_5th_cycle_tracts('Los Altos')\n",
    "    return pearsonr(tracts['homes per acre'], tracts_LA['CIscoreP'])"
   ]
  },
  {
   "cell_type": "code",
   "execution_count": 247,
   "id": "noble-newton",
   "metadata": {},
   "outputs": [
    {
     "data": {
      "text/plain": [
       "(-0.25365054665247044, 0.2672296403173574)"
      ]
     },
     "execution_count": 247,
     "metadata": {},
     "output_type": "execute_result"
    }
   ],
   "source": [
    "score_correlation('Los Altos', 5)"
   ]
  },
  {
   "cell_type": "code",
   "execution_count": 253,
   "id": "collaborative-tongue",
   "metadata": {},
   "outputs": [],
   "source": [
    "def plot_pollution_map(city):\n",
    "    pollution = get_pollution_for(city)\n",
    "    fig, ax = plt.subplots(figsize=(15, 15))\n",
    "    plt.rcParams.update({'font.size': 25})\n",
    "    pollution.plot(ax=ax, column=pollution['CIscoreP'], legend=True)\n",
    "    plt.rcParams.update({'font.size': 10})\n",
    "    ax.set_yticklabels([])\n",
    "    ax.set_xticklabels([])"
   ]
  },
  {
   "cell_type": "code",
   "execution_count": 287,
   "id": "thorough-cutting",
   "metadata": {},
   "outputs": [],
   "source": [
    "def plot_sites_on_top_of_pollution_map(city, cycle):\n",
    "    pollution = get_pollution_for(city)\n",
    "    fig, ax = plt.subplots(figsize=(15, 15))\n",
    "    plt.rcParams.update({'font.size': 25})\n",
    "    pollution.plot(ax=ax, column=pollution['CIscoreP'], legend=True, cmap='Pastel2')\n",
    "    plt.rcParams.update({'font.size': 10})\n",
    "    ax.set_yticklabels([])\n",
    "    ax.set_xticklabels([])\n",
    "    sites = get_city_sites_for_cycle(city, cycle)\n",
    "    sites.plot(ax=ax, marker='o', markersize=100, color='steelblue')\n"
   ]
  },
  {
   "cell_type": "code",
   "execution_count": 288,
   "id": "guided-department",
   "metadata": {},
   "outputs": [
    {
     "data": {
      "image/png": "[encoded data removed]",
      "text/plain": [
       "<Figure size 1080x1080 with 2 Axes>"
      ]
     },
     "metadata": {
      "needs_background": "light"
     },
     "output_type": "display_data"
    }
   ],
   "source": [
    "plot_sites_on_top_of_pollution_map('Mountain View', 5)"
   ]
  },
  {
   "cell_type": "code",
   "execution_count": null,
   "id": "electrical-margin",
   "metadata": {},
   "outputs": [],
   "source": []
  }
 ],
 "metadata": {
  "kernelspec": {
   "display_name": "Python 3",
   "language": "python",
   "name": "python3"
  },
  "language_info": {
   "codemirror_mode": {
    "name": "ipython",
    "version": 3
   },
   "file_extension": ".py",
   "mimetype": "text/x-python",
   "name": "python",
   "nbconvert_exporter": "python",
   "pygments_lexer": "ipython3",
   "version": "3.8.2"
  }
 },
 "nbformat": 4,
 "nbformat_minor": 5
}
